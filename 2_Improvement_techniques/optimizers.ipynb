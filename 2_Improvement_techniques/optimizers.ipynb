{
 "cells": [
  {
   "cell_type": "code",
   "execution_count": 5,
   "metadata": {},
   "outputs": [],
   "source": [
    "from sklearn.datasets import load_breast_cancer\n",
    "import pandas as pd\n",
    "import tensorflow\n",
    "from tensorflow import keras\n",
    "from keras.layers import Dense,Dropout\n",
    "from keras import Sequential\n",
    "from keras.initializers import GlorotNormal"
   ]
  },
  {
   "cell_type": "code",
   "execution_count": 2,
   "metadata": {},
   "outputs": [],
   "source": [
    "cancer = load_breast_cancer()\n",
    "\n",
    "df = pd.DataFrame(cancer.data, columns=cancer.feature_names)\n",
    "df['target'] = cancer.target"
   ]
  },
  {
   "cell_type": "code",
   "execution_count": 3,
   "metadata": {},
   "outputs": [],
   "source": [
    "from sklearn.model_selection import train_test_split\n",
    "\n",
    "X=cancer.data\n",
    "y=cancer.target\n",
    "\n",
    "X_train,X_test,y_train,y_test= train_test_split(X,y,test_size=0.2)"
   ]
  },
  {
   "cell_type": "code",
   "execution_count": 6,
   "metadata": {},
   "outputs": [
    {
     "name": "stderr",
     "output_type": "stream",
     "text": [
      "d:\\PYTHON\\Lib\\site-packages\\keras\\src\\layers\\core\\dense.py:87: UserWarning: Do not pass an `input_shape`/`input_dim` argument to a layer. When using Sequential models, prefer using an `Input(shape)` object as the first layer in the model instead.\n",
      "  super().__init__(activity_regularizer=activity_regularizer, **kwargs)\n"
     ]
    }
   ],
   "source": [
    "model = Sequential([\n",
    "    Dense(128, input_dim=30, activation='relu', kernel_initializer=GlorotNormal()),\n",
    "    Dense(64, activation='relu', kernel_initializer=GlorotNormal()),\n",
    "    Dense(8, activation='relu', kernel_initializer=GlorotNormal()),\n",
    "    Dense(1, activation='sigmoid', kernel_initializer=GlorotNormal()),\n",
    "])"
   ]
  },
  {
   "cell_type": "code",
   "execution_count": 8,
   "metadata": {},
   "outputs": [
    {
     "name": "stdout",
     "output_type": "stream",
     "text": [
      "Epoch 1/25\n",
      "\u001b[1m12/12\u001b[0m \u001b[32m━━━━━━━━━━━━━━━━━━━━\u001b[0m\u001b[37m\u001b[0m \u001b[1m1s\u001b[0m 14ms/step - accuracy: 0.5690 - loss: 197.2522 - val_accuracy: 0.6484 - val_loss: 0.6888\n",
      "Epoch 2/25\n",
      "\u001b[1m12/12\u001b[0m \u001b[32m━━━━━━━━━━━━━━━━━━━━\u001b[0m\u001b[37m\u001b[0m \u001b[1m0s\u001b[0m 4ms/step - accuracy: 0.5874 - loss: 0.6884 - val_accuracy: 0.6484 - val_loss: 0.6766\n",
      "Epoch 3/25\n",
      "\u001b[1m12/12\u001b[0m \u001b[32m━━━━━━━━━━━━━━━━━━━━\u001b[0m\u001b[37m\u001b[0m \u001b[1m0s\u001b[0m 3ms/step - accuracy: 0.6278 - loss: 0.6769 - val_accuracy: 0.6484 - val_loss: 0.6652\n",
      "Epoch 4/25\n",
      "\u001b[1m12/12\u001b[0m \u001b[32m━━━━━━━━━━━━━━━━━━━━\u001b[0m\u001b[37m\u001b[0m \u001b[1m0s\u001b[0m 3ms/step - accuracy: 0.5899 - loss: 0.6778 - val_accuracy: 0.6484 - val_loss: 0.6597\n",
      "Epoch 5/25\n",
      "\u001b[1m12/12\u001b[0m \u001b[32m━━━━━━━━━━━━━━━━━━━━\u001b[0m\u001b[37m\u001b[0m \u001b[1m0s\u001b[0m 4ms/step - accuracy: 0.5843 - loss: 0.6784 - val_accuracy: 0.6484 - val_loss: 0.6564\n",
      "Epoch 6/25\n",
      "\u001b[1m12/12\u001b[0m \u001b[32m━━━━━━━━━━━━━━━━━━━━\u001b[0m\u001b[37m\u001b[0m \u001b[1m0s\u001b[0m 3ms/step - accuracy: 0.6567 - loss: 0.6532 - val_accuracy: 0.6484 - val_loss: 0.6536\n",
      "Epoch 7/25\n",
      "\u001b[1m12/12\u001b[0m \u001b[32m━━━━━━━━━━━━━━━━━━━━\u001b[0m\u001b[37m\u001b[0m \u001b[1m0s\u001b[0m 6ms/step - accuracy: 0.5953 - loss: 0.6749 - val_accuracy: 0.6484 - val_loss: 0.6532\n",
      "Epoch 8/25\n",
      "\u001b[1m12/12\u001b[0m \u001b[32m━━━━━━━━━━━━━━━━━━━━\u001b[0m\u001b[37m\u001b[0m \u001b[1m0s\u001b[0m 3ms/step - accuracy: 0.6197 - loss: 0.6649 - val_accuracy: 0.6484 - val_loss: 0.6518\n",
      "Epoch 9/25\n",
      "\u001b[1m12/12\u001b[0m \u001b[32m━━━━━━━━━━━━━━━━━━━━\u001b[0m\u001b[37m\u001b[0m \u001b[1m0s\u001b[0m 3ms/step - accuracy: 0.6364 - loss: 0.6571 - val_accuracy: 0.6484 - val_loss: 0.6508\n",
      "Epoch 10/25\n",
      "\u001b[1m12/12\u001b[0m \u001b[32m━━━━━━━━━━━━━━━━━━━━\u001b[0m\u001b[37m\u001b[0m \u001b[1m0s\u001b[0m 3ms/step - accuracy: 0.6247 - loss: 0.6620 - val_accuracy: 0.6484 - val_loss: 0.6507\n",
      "Epoch 11/25\n",
      "\u001b[1m12/12\u001b[0m \u001b[32m━━━━━━━━━━━━━━━━━━━━\u001b[0m\u001b[37m\u001b[0m \u001b[1m0s\u001b[0m 3ms/step - accuracy: 0.6335 - loss: 0.6578 - val_accuracy: 0.6484 - val_loss: 0.6507\n",
      "Epoch 12/25\n",
      "\u001b[1m12/12\u001b[0m \u001b[32m━━━━━━━━━━━━━━━━━━━━\u001b[0m\u001b[37m\u001b[0m \u001b[1m0s\u001b[0m 3ms/step - accuracy: 0.5942 - loss: 0.6764 - val_accuracy: 0.6484 - val_loss: 0.6509\n",
      "Epoch 13/25\n",
      "\u001b[1m12/12\u001b[0m \u001b[32m━━━━━━━━━━━━━━━━━━━━\u001b[0m\u001b[37m\u001b[0m \u001b[1m0s\u001b[0m 4ms/step - accuracy: 0.6488 - loss: 0.6508 - val_accuracy: 0.6484 - val_loss: 0.6506\n",
      "Epoch 14/25\n",
      "\u001b[1m12/12\u001b[0m \u001b[32m━━━━━━━━━━━━━━━━━━━━\u001b[0m\u001b[37m\u001b[0m \u001b[1m0s\u001b[0m 3ms/step - accuracy: 0.6058 - loss: 0.6710 - val_accuracy: 0.6484 - val_loss: 0.6508\n",
      "Epoch 15/25\n",
      "\u001b[1m12/12\u001b[0m \u001b[32m━━━━━━━━━━━━━━━━━━━━\u001b[0m\u001b[37m\u001b[0m \u001b[1m0s\u001b[0m 3ms/step - accuracy: 0.6239 - loss: 0.6624 - val_accuracy: 0.6484 - val_loss: 0.6510\n",
      "Epoch 16/25\n",
      "\u001b[1m12/12\u001b[0m \u001b[32m━━━━━━━━━━━━━━━━━━━━\u001b[0m\u001b[37m\u001b[0m \u001b[1m0s\u001b[0m 3ms/step - accuracy: 0.5955 - loss: 0.6755 - val_accuracy: 0.6484 - val_loss: 0.6508\n",
      "Epoch 17/25\n",
      "\u001b[1m12/12\u001b[0m \u001b[32m━━━━━━━━━━━━━━━━━━━━\u001b[0m\u001b[37m\u001b[0m \u001b[1m0s\u001b[0m 3ms/step - accuracy: 0.6378 - loss: 0.6558 - val_accuracy: 0.6484 - val_loss: 0.6507\n",
      "Epoch 18/25\n",
      "\u001b[1m12/12\u001b[0m \u001b[32m━━━━━━━━━━━━━━━━━━━━\u001b[0m\u001b[37m\u001b[0m \u001b[1m0s\u001b[0m 3ms/step - accuracy: 0.6355 - loss: 0.6568 - val_accuracy: 0.6484 - val_loss: 0.6506\n",
      "Epoch 19/25\n",
      "\u001b[1m12/12\u001b[0m \u001b[32m━━━━━━━━━━━━━━━━━━━━\u001b[0m\u001b[37m\u001b[0m \u001b[1m0s\u001b[0m 3ms/step - accuracy: 0.6120 - loss: 0.6679 - val_accuracy: 0.6484 - val_loss: 0.6508\n",
      "Epoch 20/25\n",
      "\u001b[1m12/12\u001b[0m \u001b[32m━━━━━━━━━━━━━━━━━━━━\u001b[0m\u001b[37m\u001b[0m \u001b[1m0s\u001b[0m 3ms/step - accuracy: 0.6052 - loss: 0.6711 - val_accuracy: 0.6484 - val_loss: 0.6507\n",
      "Epoch 21/25\n",
      "\u001b[1m12/12\u001b[0m \u001b[32m━━━━━━━━━━━━━━━━━━━━\u001b[0m\u001b[37m\u001b[0m \u001b[1m0s\u001b[0m 3ms/step - accuracy: 0.6308 - loss: 0.6591 - val_accuracy: 0.6484 - val_loss: 0.6502\n",
      "Epoch 22/25\n",
      "\u001b[1m12/12\u001b[0m \u001b[32m━━━━━━━━━━━━━━━━━━━━\u001b[0m\u001b[37m\u001b[0m \u001b[1m0s\u001b[0m 4ms/step - accuracy: 0.5883 - loss: 0.6796 - val_accuracy: 0.6484 - val_loss: 0.6501\n",
      "Epoch 23/25\n",
      "\u001b[1m12/12\u001b[0m \u001b[32m━━━━━━━━━━━━━━━━━━━━\u001b[0m\u001b[37m\u001b[0m \u001b[1m0s\u001b[0m 3ms/step - accuracy: 0.5724 - loss: 0.6877 - val_accuracy: 0.6484 - val_loss: 0.6501\n",
      "Epoch 24/25\n",
      "\u001b[1m12/12\u001b[0m \u001b[32m━━━━━━━━━━━━━━━━━━━━\u001b[0m\u001b[37m\u001b[0m \u001b[1m0s\u001b[0m 3ms/step - accuracy: 0.6213 - loss: 0.6635 - val_accuracy: 0.6484 - val_loss: 0.6497\n",
      "Epoch 25/25\n",
      "\u001b[1m12/12\u001b[0m \u001b[32m━━━━━━━━━━━━━━━━━━━━\u001b[0m\u001b[37m\u001b[0m \u001b[1m0s\u001b[0m 3ms/step - accuracy: 0.6226 - loss: 0.6629 - val_accuracy: 0.6484 - val_loss: 0.6495\n"
     ]
    },
    {
     "data": {
      "text/plain": [
       "<keras.src.callbacks.history.History at 0x1e1c1854410>"
      ]
     },
     "execution_count": 8,
     "metadata": {},
     "output_type": "execute_result"
    }
   ],
   "source": [
    "from keras.optimizers import SGD\n",
    "\n",
    "model.compile(loss='binary_crossentropy', optimizer=SGD(learning_rate=0.01, momentum=0.9), metrics=['accuracy'])\n",
    "model.fit(X_train, y_train, epochs=25, validation_split=0.2)"
   ]
  },
  {
   "cell_type": "code",
   "execution_count": 9,
   "metadata": {},
   "outputs": [
    {
     "name": "stdout",
     "output_type": "stream",
     "text": [
      "Epoch 1/25\n",
      "\u001b[1m12/12\u001b[0m \u001b[32m━━━━━━━━━━━━━━━━━━━━\u001b[0m\u001b[37m\u001b[0m \u001b[1m1s\u001b[0m 12ms/step - accuracy: 0.6049 - loss: 0.6721 - val_accuracy: 0.6484 - val_loss: 0.6494\n",
      "Epoch 2/25\n",
      "\u001b[1m12/12\u001b[0m \u001b[32m━━━━━━━━━━━━━━━━━━━━\u001b[0m\u001b[37m\u001b[0m \u001b[1m0s\u001b[0m 4ms/step - accuracy: 0.6297 - loss: 0.6591 - val_accuracy: 0.6484 - val_loss: 0.6495\n",
      "Epoch 3/25\n",
      "\u001b[1m12/12\u001b[0m \u001b[32m━━━━━━━━━━━━━━━━━━━━\u001b[0m\u001b[37m\u001b[0m \u001b[1m0s\u001b[0m 3ms/step - accuracy: 0.6118 - loss: 0.6684 - val_accuracy: 0.6484 - val_loss: 0.6495\n",
      "Epoch 4/25\n",
      "\u001b[1m12/12\u001b[0m \u001b[32m━━━━━━━━━━━━━━━━━━━━\u001b[0m\u001b[37m\u001b[0m \u001b[1m0s\u001b[0m 3ms/step - accuracy: 0.6179 - loss: 0.6653 - val_accuracy: 0.6484 - val_loss: 0.6496\n",
      "Epoch 5/25\n",
      "\u001b[1m12/12\u001b[0m \u001b[32m━━━━━━━━━━━━━━━━━━━━\u001b[0m\u001b[37m\u001b[0m \u001b[1m0s\u001b[0m 3ms/step - accuracy: 0.5948 - loss: 0.6771 - val_accuracy: 0.6484 - val_loss: 0.6495\n",
      "Epoch 6/25\n",
      "\u001b[1m12/12\u001b[0m \u001b[32m━━━━━━━━━━━━━━━━━━━━\u001b[0m\u001b[37m\u001b[0m \u001b[1m0s\u001b[0m 6ms/step - accuracy: 0.6015 - loss: 0.6737 - val_accuracy: 0.6484 - val_loss: 0.6495\n",
      "Epoch 7/25\n",
      "\u001b[1m12/12\u001b[0m \u001b[32m━━━━━━━━━━━━━━━━━━━━\u001b[0m\u001b[37m\u001b[0m \u001b[1m0s\u001b[0m 3ms/step - accuracy: 0.6056 - loss: 0.6716 - val_accuracy: 0.6484 - val_loss: 0.6495\n",
      "Epoch 8/25\n",
      "\u001b[1m12/12\u001b[0m \u001b[32m━━━━━━━━━━━━━━━━━━━━\u001b[0m\u001b[37m\u001b[0m \u001b[1m0s\u001b[0m 4ms/step - accuracy: 0.6175 - loss: 0.6654 - val_accuracy: 0.6484 - val_loss: 0.6496\n",
      "Epoch 9/25\n",
      "\u001b[1m12/12\u001b[0m \u001b[32m━━━━━━━━━━━━━━━━━━━━\u001b[0m\u001b[37m\u001b[0m \u001b[1m0s\u001b[0m 3ms/step - accuracy: 0.6204 - loss: 0.6639 - val_accuracy: 0.6484 - val_loss: 0.6496\n",
      "Epoch 10/25\n",
      "\u001b[1m12/12\u001b[0m \u001b[32m━━━━━━━━━━━━━━━━━━━━\u001b[0m\u001b[37m\u001b[0m \u001b[1m0s\u001b[0m 3ms/step - accuracy: 0.6367 - loss: 0.6556 - val_accuracy: 0.6484 - val_loss: 0.6496\n",
      "Epoch 11/25\n",
      "\u001b[1m12/12\u001b[0m \u001b[32m━━━━━━━━━━━━━━━━━━━━\u001b[0m\u001b[37m\u001b[0m \u001b[1m0s\u001b[0m 5ms/step - accuracy: 0.6463 - loss: 0.6507 - val_accuracy: 0.6484 - val_loss: 0.6496\n",
      "Epoch 12/25\n",
      "\u001b[1m12/12\u001b[0m \u001b[32m━━━━━━━━━━━━━━━━━━━━\u001b[0m\u001b[37m\u001b[0m \u001b[1m0s\u001b[0m 3ms/step - accuracy: 0.6081 - loss: 0.6703 - val_accuracy: 0.6484 - val_loss: 0.6496\n",
      "Epoch 13/25\n",
      "\u001b[1m12/12\u001b[0m \u001b[32m━━━━━━━━━━━━━━━━━━━━\u001b[0m\u001b[37m\u001b[0m \u001b[1m0s\u001b[0m 3ms/step - accuracy: 0.6380 - loss: 0.6550 - val_accuracy: 0.6484 - val_loss: 0.6496\n",
      "Epoch 14/25\n",
      "\u001b[1m12/12\u001b[0m \u001b[32m━━━━━━━━━━━━━━━━━━━━\u001b[0m\u001b[37m\u001b[0m \u001b[1m0s\u001b[0m 4ms/step - accuracy: 0.6386 - loss: 0.6546 - val_accuracy: 0.6484 - val_loss: 0.6497\n",
      "Epoch 15/25\n",
      "\u001b[1m12/12\u001b[0m \u001b[32m━━━━━━━━━━━━━━━━━━━━\u001b[0m\u001b[37m\u001b[0m \u001b[1m0s\u001b[0m 4ms/step - accuracy: 0.5987 - loss: 0.6750 - val_accuracy: 0.6484 - val_loss: 0.6497\n",
      "Epoch 16/25\n",
      "\u001b[1m12/12\u001b[0m \u001b[32m━━━━━━━━━━━━━━━━━━━━\u001b[0m\u001b[37m\u001b[0m \u001b[1m0s\u001b[0m 4ms/step - accuracy: 0.6264 - loss: 0.6609 - val_accuracy: 0.6484 - val_loss: 0.6497\n",
      "Epoch 17/25\n",
      "\u001b[1m12/12\u001b[0m \u001b[32m━━━━━━━━━━━━━━━━━━━━\u001b[0m\u001b[37m\u001b[0m \u001b[1m0s\u001b[0m 3ms/step - accuracy: 0.6189 - loss: 0.6647 - val_accuracy: 0.6484 - val_loss: 0.6497\n",
      "Epoch 18/25\n",
      "\u001b[1m12/12\u001b[0m \u001b[32m━━━━━━━━━━━━━━━━━━━━\u001b[0m\u001b[37m\u001b[0m \u001b[1m0s\u001b[0m 4ms/step - accuracy: 0.6262 - loss: 0.6610 - val_accuracy: 0.6484 - val_loss: 0.6497\n",
      "Epoch 19/25\n",
      "\u001b[1m12/12\u001b[0m \u001b[32m━━━━━━━━━━━━━━━━━━━━\u001b[0m\u001b[37m\u001b[0m \u001b[1m0s\u001b[0m 3ms/step - accuracy: 0.6068 - loss: 0.6708 - val_accuracy: 0.6484 - val_loss: 0.6497\n",
      "Epoch 20/25\n",
      "\u001b[1m12/12\u001b[0m \u001b[32m━━━━━━━━━━━━━━━━━━━━\u001b[0m\u001b[37m\u001b[0m \u001b[1m0s\u001b[0m 4ms/step - accuracy: 0.6179 - loss: 0.6652 - val_accuracy: 0.6484 - val_loss: 0.6497\n",
      "Epoch 21/25\n",
      "\u001b[1m12/12\u001b[0m \u001b[32m━━━━━━━━━━━━━━━━━━━━\u001b[0m\u001b[37m\u001b[0m \u001b[1m0s\u001b[0m 3ms/step - accuracy: 0.6034 - loss: 0.6726 - val_accuracy: 0.6484 - val_loss: 0.6497\n",
      "Epoch 22/25\n",
      "\u001b[1m12/12\u001b[0m \u001b[32m━━━━━━━━━━━━━━━━━━━━\u001b[0m\u001b[37m\u001b[0m \u001b[1m0s\u001b[0m 3ms/step - accuracy: 0.6347 - loss: 0.6566 - val_accuracy: 0.6484 - val_loss: 0.6498\n",
      "Epoch 23/25\n",
      "\u001b[1m12/12\u001b[0m \u001b[32m━━━━━━━━━━━━━━━━━━━━\u001b[0m\u001b[37m\u001b[0m \u001b[1m0s\u001b[0m 3ms/step - accuracy: 0.6134 - loss: 0.6674 - val_accuracy: 0.6484 - val_loss: 0.6498\n",
      "Epoch 24/25\n",
      "\u001b[1m12/12\u001b[0m \u001b[32m━━━━━━━━━━━━━━━━━━━━\u001b[0m\u001b[37m\u001b[0m \u001b[1m0s\u001b[0m 5ms/step - accuracy: 0.6339 - loss: 0.6571 - val_accuracy: 0.6484 - val_loss: 0.6498\n",
      "Epoch 25/25\n",
      "\u001b[1m12/12\u001b[0m \u001b[32m━━━━━━━━━━━━━━━━━━━━\u001b[0m\u001b[37m\u001b[0m \u001b[1m0s\u001b[0m 4ms/step - accuracy: 0.6433 - loss: 0.6524 - val_accuracy: 0.6484 - val_loss: 0.6498\n"
     ]
    },
    {
     "data": {
      "text/plain": [
       "<keras.src.callbacks.history.History at 0x1e1c1919b50>"
      ]
     },
     "execution_count": 9,
     "metadata": {},
     "output_type": "execute_result"
    }
   ],
   "source": [
    "from keras.optimizers import RMSprop\n",
    "\n",
    "model.compile(loss='binary_crossentropy', optimizer=RMSprop(learning_rate=0.001, rho=0.9), metrics=['accuracy'])\n",
    "model.fit(X_train, y_train, epochs=25, validation_split=0.2)"
   ]
  },
  {
   "cell_type": "code",
   "execution_count": 10,
   "metadata": {},
   "outputs": [
    {
     "name": "stdout",
     "output_type": "stream",
     "text": [
      "Epoch 1/25\n",
      "\u001b[1m12/12\u001b[0m \u001b[32m━━━━━━━━━━━━━━━━━━━━\u001b[0m\u001b[37m\u001b[0m \u001b[1m1s\u001b[0m 13ms/step - accuracy: 0.6466 - loss: 0.6508 - val_accuracy: 0.6484 - val_loss: 0.6498\n",
      "Epoch 2/25\n",
      "\u001b[1m12/12\u001b[0m \u001b[32m━━━━━━━━━━━━━━━━━━━━\u001b[0m\u001b[37m\u001b[0m \u001b[1m0s\u001b[0m 3ms/step - accuracy: 0.6229 - loss: 0.6627 - val_accuracy: 0.6484 - val_loss: 0.6498\n",
      "Epoch 3/25\n",
      "\u001b[1m12/12\u001b[0m \u001b[32m━━━━━━━━━━━━━━━━━━━━\u001b[0m\u001b[37m\u001b[0m \u001b[1m0s\u001b[0m 3ms/step - accuracy: 0.6234 - loss: 0.6624 - val_accuracy: 0.6484 - val_loss: 0.6499\n",
      "Epoch 4/25\n",
      "\u001b[1m12/12\u001b[0m \u001b[32m━━━━━━━━━━━━━━━━━━━━\u001b[0m\u001b[37m\u001b[0m \u001b[1m0s\u001b[0m 3ms/step - accuracy: 0.6295 - loss: 0.6593 - val_accuracy: 0.6484 - val_loss: 0.6499\n",
      "Epoch 5/25\n",
      "\u001b[1m12/12\u001b[0m \u001b[32m━━━━━━━━━━━━━━━━━━━━\u001b[0m\u001b[37m\u001b[0m \u001b[1m0s\u001b[0m 3ms/step - accuracy: 0.6135 - loss: 0.6673 - val_accuracy: 0.6484 - val_loss: 0.6499\n",
      "Epoch 6/25\n",
      "\u001b[1m12/12\u001b[0m \u001b[32m━━━━━━━━━━━━━━━━━━━━\u001b[0m\u001b[37m\u001b[0m \u001b[1m0s\u001b[0m 4ms/step - accuracy: 0.6009 - loss: 0.6736 - val_accuracy: 0.6484 - val_loss: 0.6500\n",
      "Epoch 7/25\n",
      "\u001b[1m12/12\u001b[0m \u001b[32m━━━━━━━━━━━━━━━━━━━━\u001b[0m\u001b[37m\u001b[0m \u001b[1m0s\u001b[0m 3ms/step - accuracy: 0.5872 - loss: 0.6804 - val_accuracy: 0.6484 - val_loss: 0.6500\n",
      "Epoch 8/25\n",
      "\u001b[1m12/12\u001b[0m \u001b[32m━━━━━━━━━━━━━━━━━━━━\u001b[0m\u001b[37m\u001b[0m \u001b[1m0s\u001b[0m 6ms/step - accuracy: 0.6022 - loss: 0.6729 - val_accuracy: 0.6484 - val_loss: 0.6500\n",
      "Epoch 9/25\n",
      "\u001b[1m12/12\u001b[0m \u001b[32m━━━━━━━━━━━━━━━━━━━━\u001b[0m\u001b[37m\u001b[0m \u001b[1m0s\u001b[0m 3ms/step - accuracy: 0.6277 - loss: 0.6603 - val_accuracy: 0.6484 - val_loss: 0.6500\n",
      "Epoch 10/25\n",
      "\u001b[1m12/12\u001b[0m \u001b[32m━━━━━━━━━━━━━━━━━━━━\u001b[0m\u001b[37m\u001b[0m \u001b[1m0s\u001b[0m 3ms/step - accuracy: 0.6076 - loss: 0.6702 - val_accuracy: 0.6484 - val_loss: 0.6500\n",
      "Epoch 11/25\n",
      "\u001b[1m12/12\u001b[0m \u001b[32m━━━━━━━━━━━━━━━━━━━━\u001b[0m\u001b[37m\u001b[0m \u001b[1m0s\u001b[0m 4ms/step - accuracy: 0.6221 - loss: 0.6630 - val_accuracy: 0.6484 - val_loss: 0.6500\n",
      "Epoch 12/25\n",
      "\u001b[1m12/12\u001b[0m \u001b[32m━━━━━━━━━━━━━━━━━━━━\u001b[0m\u001b[37m\u001b[0m \u001b[1m0s\u001b[0m 3ms/step - accuracy: 0.5967 - loss: 0.6756 - val_accuracy: 0.6484 - val_loss: 0.6500\n",
      "Epoch 13/25\n",
      "\u001b[1m12/12\u001b[0m \u001b[32m━━━━━━━━━━━━━━━━━━━━\u001b[0m\u001b[37m\u001b[0m \u001b[1m0s\u001b[0m 4ms/step - accuracy: 0.6604 - loss: 0.6440 - val_accuracy: 0.6484 - val_loss: 0.6499\n",
      "Epoch 14/25\n",
      "\u001b[1m12/12\u001b[0m \u001b[32m━━━━━━━━━━━━━━━━━━━━\u001b[0m\u001b[37m\u001b[0m \u001b[1m0s\u001b[0m 3ms/step - accuracy: 0.6045 - loss: 0.6718 - val_accuracy: 0.6484 - val_loss: 0.6500\n",
      "Epoch 15/25\n",
      "\u001b[1m12/12\u001b[0m \u001b[32m━━━━━━━━━━━━━━━━━━━━\u001b[0m\u001b[37m\u001b[0m \u001b[1m0s\u001b[0m 4ms/step - accuracy: 0.6307 - loss: 0.6587 - val_accuracy: 0.6484 - val_loss: 0.6499\n",
      "Epoch 16/25\n",
      "\u001b[1m12/12\u001b[0m \u001b[32m━━━━━━━━━━━━━━━━━━━━\u001b[0m\u001b[37m\u001b[0m \u001b[1m0s\u001b[0m 4ms/step - accuracy: 0.6287 - loss: 0.6597 - val_accuracy: 0.6484 - val_loss: 0.6500\n",
      "Epoch 17/25\n",
      "\u001b[1m12/12\u001b[0m \u001b[32m━━━━━━━━━━━━━━━━━━━━\u001b[0m\u001b[37m\u001b[0m \u001b[1m0s\u001b[0m 4ms/step - accuracy: 0.6298 - loss: 0.6592 - val_accuracy: 0.6484 - val_loss: 0.6499\n",
      "Epoch 18/25\n",
      "\u001b[1m12/12\u001b[0m \u001b[32m━━━━━━━━━━━━━━━━━━━━\u001b[0m\u001b[37m\u001b[0m \u001b[1m0s\u001b[0m 3ms/step - accuracy: 0.6207 - loss: 0.6637 - val_accuracy: 0.6484 - val_loss: 0.6499\n",
      "Epoch 19/25\n",
      "\u001b[1m12/12\u001b[0m \u001b[32m━━━━━━━━━━━━━━━━━━━━\u001b[0m\u001b[37m\u001b[0m \u001b[1m0s\u001b[0m 3ms/step - accuracy: 0.6007 - loss: 0.6737 - val_accuracy: 0.6484 - val_loss: 0.6500\n",
      "Epoch 20/25\n",
      "\u001b[1m12/12\u001b[0m \u001b[32m━━━━━━━━━━━━━━━━━━━━\u001b[0m\u001b[37m\u001b[0m \u001b[1m0s\u001b[0m 3ms/step - accuracy: 0.6349 - loss: 0.6567 - val_accuracy: 0.6484 - val_loss: 0.6500\n",
      "Epoch 21/25\n",
      "\u001b[1m12/12\u001b[0m \u001b[32m━━━━━━━━━━━━━━━━━━━━\u001b[0m\u001b[37m\u001b[0m \u001b[1m0s\u001b[0m 4ms/step - accuracy: 0.6156 - loss: 0.6663 - val_accuracy: 0.6484 - val_loss: 0.6500\n",
      "Epoch 22/25\n",
      "\u001b[1m12/12\u001b[0m \u001b[32m━━━━━━━━━━━━━━━━━━━━\u001b[0m\u001b[37m\u001b[0m \u001b[1m0s\u001b[0m 4ms/step - accuracy: 0.6304 - loss: 0.6589 - val_accuracy: 0.6484 - val_loss: 0.6501\n",
      "Epoch 23/25\n",
      "\u001b[1m12/12\u001b[0m \u001b[32m━━━━━━━━━━━━━━━━━━━━\u001b[0m\u001b[37m\u001b[0m \u001b[1m0s\u001b[0m 4ms/step - accuracy: 0.5980 - loss: 0.6750 - val_accuracy: 0.6484 - val_loss: 0.6501\n",
      "Epoch 24/25\n",
      "\u001b[1m12/12\u001b[0m \u001b[32m━━━━━━━━━━━━━━━━━━━━\u001b[0m\u001b[37m\u001b[0m \u001b[1m0s\u001b[0m 3ms/step - accuracy: 0.6090 - loss: 0.6695 - val_accuracy: 0.6484 - val_loss: 0.6501\n",
      "Epoch 25/25\n",
      "\u001b[1m12/12\u001b[0m \u001b[32m━━━━━━━━━━━━━━━━━━━━\u001b[0m\u001b[37m\u001b[0m \u001b[1m0s\u001b[0m 4ms/step - accuracy: 0.6114 - loss: 0.6683 - val_accuracy: 0.6484 - val_loss: 0.6501\n"
     ]
    },
    {
     "data": {
      "text/plain": [
       "<keras.src.callbacks.history.History at 0x1e1c1b4e3f0>"
      ]
     },
     "execution_count": 10,
     "metadata": {},
     "output_type": "execute_result"
    }
   ],
   "source": [
    "from keras.optimizers import Adam\n",
    "\n",
    "model.compile(loss='binary_crossentropy', optimizer=Adam(learning_rate=0.001), metrics=['accuracy'])\n",
    "model.fit(X_train, y_train, epochs=25, validation_split=0.2)"
   ]
  },
  {
   "cell_type": "code",
   "execution_count": 12,
   "metadata": {},
   "outputs": [
    {
     "name": "stdout",
     "output_type": "stream",
     "text": [
      "Epoch 1/25\n",
      "\u001b[1m12/12\u001b[0m \u001b[32m━━━━━━━━━━━━━━━━━━━━\u001b[0m\u001b[37m\u001b[0m \u001b[1m1s\u001b[0m 11ms/step - accuracy: 0.6015 - loss: 0.6734 - val_accuracy: 0.6484 - val_loss: 0.6501\n",
      "Epoch 2/25\n",
      "\u001b[1m12/12\u001b[0m \u001b[32m━━━━━━━━━━━━━━━━━━━━\u001b[0m\u001b[37m\u001b[0m \u001b[1m0s\u001b[0m 4ms/step - accuracy: 0.6296 - loss: 0.6594 - val_accuracy: 0.6484 - val_loss: 0.6501\n",
      "Epoch 3/25\n",
      "\u001b[1m12/12\u001b[0m \u001b[32m━━━━━━━━━━━━━━━━━━━━\u001b[0m\u001b[37m\u001b[0m \u001b[1m0s\u001b[0m 3ms/step - accuracy: 0.6451 - loss: 0.6517 - val_accuracy: 0.6484 - val_loss: 0.6501\n",
      "Epoch 4/25\n",
      "\u001b[1m12/12\u001b[0m \u001b[32m━━━━━━━━━━━━━━━━━━━━\u001b[0m\u001b[37m\u001b[0m \u001b[1m0s\u001b[0m 3ms/step - accuracy: 0.6186 - loss: 0.6648 - val_accuracy: 0.6484 - val_loss: 0.6501\n",
      "Epoch 5/25\n",
      "\u001b[1m12/12\u001b[0m \u001b[32m━━━━━━━━━━━━━━━━━━━━\u001b[0m\u001b[37m\u001b[0m \u001b[1m0s\u001b[0m 3ms/step - accuracy: 0.6249 - loss: 0.6617 - val_accuracy: 0.6484 - val_loss: 0.6501\n",
      "Epoch 6/25\n",
      "\u001b[1m12/12\u001b[0m \u001b[32m━━━━━━━━━━━━━━━━━━━━\u001b[0m\u001b[37m\u001b[0m \u001b[1m0s\u001b[0m 3ms/step - accuracy: 0.6204 - loss: 0.6639 - val_accuracy: 0.6484 - val_loss: 0.6501\n",
      "Epoch 7/25\n",
      "\u001b[1m12/12\u001b[0m \u001b[32m━━━━━━━━━━━━━━━━━━━━\u001b[0m\u001b[37m\u001b[0m \u001b[1m0s\u001b[0m 3ms/step - accuracy: 0.6484 - loss: 0.6501 - val_accuracy: 0.6484 - val_loss: 0.6501\n",
      "Epoch 8/25\n",
      "\u001b[1m12/12\u001b[0m \u001b[32m━━━━━━━━━━━━━━━━━━━━\u001b[0m\u001b[37m\u001b[0m \u001b[1m0s\u001b[0m 3ms/step - accuracy: 0.6261 - loss: 0.6611 - val_accuracy: 0.6484 - val_loss: 0.6501\n",
      "Epoch 9/25\n",
      "\u001b[1m12/12\u001b[0m \u001b[32m━━━━━━━━━━━━━━━━━━━━\u001b[0m\u001b[37m\u001b[0m \u001b[1m0s\u001b[0m 3ms/step - accuracy: 0.6050 - loss: 0.6715 - val_accuracy: 0.6484 - val_loss: 0.6501\n",
      "Epoch 10/25\n",
      "\u001b[1m12/12\u001b[0m \u001b[32m━━━━━━━━━━━━━━━━━━━━\u001b[0m\u001b[37m\u001b[0m \u001b[1m0s\u001b[0m 3ms/step - accuracy: 0.6386 - loss: 0.6550 - val_accuracy: 0.6484 - val_loss: 0.6501\n",
      "Epoch 11/25\n",
      "\u001b[1m12/12\u001b[0m \u001b[32m━━━━━━━━━━━━━━━━━━━━\u001b[0m\u001b[37m\u001b[0m \u001b[1m0s\u001b[0m 3ms/step - accuracy: 0.6208 - loss: 0.6637 - val_accuracy: 0.6484 - val_loss: 0.6501\n",
      "Epoch 12/25\n",
      "\u001b[1m12/12\u001b[0m \u001b[32m━━━━━━━━━━━━━━━━━━━━\u001b[0m\u001b[37m\u001b[0m \u001b[1m0s\u001b[0m 4ms/step - accuracy: 0.5758 - loss: 0.6858 - val_accuracy: 0.6484 - val_loss: 0.6501\n",
      "Epoch 13/25\n",
      "\u001b[1m12/12\u001b[0m \u001b[32m━━━━━━━━━━━━━━━━━━━━\u001b[0m\u001b[37m\u001b[0m \u001b[1m0s\u001b[0m 3ms/step - accuracy: 0.5910 - loss: 0.6783 - val_accuracy: 0.6484 - val_loss: 0.6501\n",
      "Epoch 14/25\n",
      "\u001b[1m12/12\u001b[0m \u001b[32m━━━━━━━━━━━━━━━━━━━━\u001b[0m\u001b[37m\u001b[0m \u001b[1m0s\u001b[0m 3ms/step - accuracy: 0.6334 - loss: 0.6575 - val_accuracy: 0.6484 - val_loss: 0.6501\n",
      "Epoch 15/25\n",
      "\u001b[1m12/12\u001b[0m \u001b[32m━━━━━━━━━━━━━━━━━━━━\u001b[0m\u001b[37m\u001b[0m \u001b[1m0s\u001b[0m 5ms/step - accuracy: 0.6459 - loss: 0.6513 - val_accuracy: 0.6484 - val_loss: 0.6501\n",
      "Epoch 16/25\n",
      "\u001b[1m12/12\u001b[0m \u001b[32m━━━━━━━━━━━━━━━━━━━━\u001b[0m\u001b[37m\u001b[0m \u001b[1m0s\u001b[0m 2ms/step - accuracy: 0.6001 - loss: 0.6739 - val_accuracy: 0.6484 - val_loss: 0.6501\n",
      "Epoch 17/25\n",
      "\u001b[1m12/12\u001b[0m \u001b[32m━━━━━━━━━━━━━━━━━━━━\u001b[0m\u001b[37m\u001b[0m \u001b[1m0s\u001b[0m 4ms/step - accuracy: 0.5964 - loss: 0.6757 - val_accuracy: 0.6484 - val_loss: 0.6501\n",
      "Epoch 18/25\n",
      "\u001b[1m12/12\u001b[0m \u001b[32m━━━━━━━━━━━━━━━━━━━━\u001b[0m\u001b[37m\u001b[0m \u001b[1m0s\u001b[0m 3ms/step - accuracy: 0.6206 - loss: 0.6638 - val_accuracy: 0.6484 - val_loss: 0.6501\n",
      "Epoch 19/25\n",
      "\u001b[1m12/12\u001b[0m \u001b[32m━━━━━━━━━━━━━━━━━━━━\u001b[0m\u001b[37m\u001b[0m \u001b[1m0s\u001b[0m 4ms/step - accuracy: 0.6191 - loss: 0.6645 - val_accuracy: 0.6484 - val_loss: 0.6501\n",
      "Epoch 20/25\n",
      "\u001b[1m12/12\u001b[0m \u001b[32m━━━━━━━━━━━━━━━━━━━━\u001b[0m\u001b[37m\u001b[0m \u001b[1m0s\u001b[0m 3ms/step - accuracy: 0.6236 - loss: 0.6623 - val_accuracy: 0.6484 - val_loss: 0.6501\n",
      "Epoch 21/25\n",
      "\u001b[1m12/12\u001b[0m \u001b[32m━━━━━━━━━━━━━━━━━━━━\u001b[0m\u001b[37m\u001b[0m \u001b[1m0s\u001b[0m 3ms/step - accuracy: 0.6059 - loss: 0.6710 - val_accuracy: 0.6484 - val_loss: 0.6501\n",
      "Epoch 22/25\n",
      "\u001b[1m12/12\u001b[0m \u001b[32m━━━━━━━━━━━━━━━━━━━━\u001b[0m\u001b[37m\u001b[0m \u001b[1m0s\u001b[0m 4ms/step - accuracy: 0.6170 - loss: 0.6656 - val_accuracy: 0.6484 - val_loss: 0.6501\n",
      "Epoch 23/25\n",
      "\u001b[1m12/12\u001b[0m \u001b[32m━━━━━━━━━━━━━━━━━━━━\u001b[0m\u001b[37m\u001b[0m \u001b[1m0s\u001b[0m 3ms/step - accuracy: 0.6174 - loss: 0.6654 - val_accuracy: 0.6484 - val_loss: 0.6501\n",
      "Epoch 24/25\n",
      "\u001b[1m12/12\u001b[0m \u001b[32m━━━━━━━━━━━━━━━━━━━━\u001b[0m\u001b[37m\u001b[0m \u001b[1m0s\u001b[0m 3ms/step - accuracy: 0.6216 - loss: 0.6633 - val_accuracy: 0.6484 - val_loss: 0.6501\n",
      "Epoch 25/25\n",
      "\u001b[1m12/12\u001b[0m \u001b[32m━━━━━━━━━━━━━━━━━━━━\u001b[0m\u001b[37m\u001b[0m \u001b[1m0s\u001b[0m 3ms/step - accuracy: 0.6212 - loss: 0.6635 - val_accuracy: 0.6484 - val_loss: 0.6501\n"
     ]
    },
    {
     "data": {
      "text/plain": [
       "<keras.src.callbacks.history.History at 0x1e1c1addbe0>"
      ]
     },
     "execution_count": 12,
     "metadata": {},
     "output_type": "execute_result"
    }
   ],
   "source": [
    "from keras.optimizers import Adagrad\n",
    "model.compile(loss='binary_crossentropy', optimizer=Adagrad(learning_rate=0.01), metrics=['accuracy'])\n",
    "\n",
    "model.fit(X_train, y_train, epochs=25, validation_split=0.2)"
   ]
  },
  {
   "cell_type": "code",
   "execution_count": 14,
   "metadata": {},
   "outputs": [
    {
     "name": "stdout",
     "output_type": "stream",
     "text": [
      "Epoch 1/25\n",
      "\u001b[1m12/12\u001b[0m \u001b[32m━━━━━━━━━━━━━━━━━━━━\u001b[0m\u001b[37m\u001b[0m \u001b[1m1s\u001b[0m 12ms/step - accuracy: 0.6132 - loss: 0.6674 - val_accuracy: 0.6484 - val_loss: 0.6503\n",
      "Epoch 2/25\n",
      "\u001b[1m12/12\u001b[0m \u001b[32m━━━━━━━━━━━━━━━━━━━━\u001b[0m\u001b[37m\u001b[0m \u001b[1m0s\u001b[0m 4ms/step - accuracy: 0.6055 - loss: 0.6711 - val_accuracy: 0.6484 - val_loss: 0.6503\n",
      "Epoch 3/25\n",
      "\u001b[1m12/12\u001b[0m \u001b[32m━━━━━━━━━━━━━━━━━━━━\u001b[0m\u001b[37m\u001b[0m \u001b[1m0s\u001b[0m 3ms/step - accuracy: 0.6176 - loss: 0.6653 - val_accuracy: 0.6484 - val_loss: 0.6503\n",
      "Epoch 4/25\n",
      "\u001b[1m12/12\u001b[0m \u001b[32m━━━━━━━━━━━━━━━━━━━━\u001b[0m\u001b[37m\u001b[0m \u001b[1m0s\u001b[0m 3ms/step - accuracy: 0.6236 - loss: 0.6624 - val_accuracy: 0.6484 - val_loss: 0.6502\n",
      "Epoch 5/25\n",
      "\u001b[1m12/12\u001b[0m \u001b[32m━━━━━━━━━━━━━━━━━━━━\u001b[0m\u001b[37m\u001b[0m \u001b[1m0s\u001b[0m 3ms/step - accuracy: 0.6082 - loss: 0.6699 - val_accuracy: 0.6484 - val_loss: 0.6502\n",
      "Epoch 6/25\n",
      "\u001b[1m12/12\u001b[0m \u001b[32m━━━━━━━━━━━━━━━━━━━━\u001b[0m\u001b[37m\u001b[0m \u001b[1m0s\u001b[0m 4ms/step - accuracy: 0.6100 - loss: 0.6690 - val_accuracy: 0.6484 - val_loss: 0.6501\n",
      "Epoch 7/25\n",
      "\u001b[1m12/12\u001b[0m \u001b[32m━━━━━━━━━━━━━━━━━━━━\u001b[0m\u001b[37m\u001b[0m \u001b[1m0s\u001b[0m 4ms/step - accuracy: 0.6165 - loss: 0.6658 - val_accuracy: 0.6484 - val_loss: 0.6502\n",
      "Epoch 8/25\n",
      "\u001b[1m12/12\u001b[0m \u001b[32m━━━━━━━━━━━━━━━━━━━━\u001b[0m\u001b[37m\u001b[0m \u001b[1m0s\u001b[0m 3ms/step - accuracy: 0.6391 - loss: 0.6548 - val_accuracy: 0.6484 - val_loss: 0.6503\n",
      "Epoch 9/25\n",
      "\u001b[1m12/12\u001b[0m \u001b[32m━━━━━━━━━━━━━━━━━━━━\u001b[0m\u001b[37m\u001b[0m \u001b[1m0s\u001b[0m 3ms/step - accuracy: 0.6428 - loss: 0.6531 - val_accuracy: 0.6484 - val_loss: 0.6503\n",
      "Epoch 10/25\n",
      "\u001b[1m12/12\u001b[0m \u001b[32m━━━━━━━━━━━━━━━━━━━━\u001b[0m\u001b[37m\u001b[0m \u001b[1m0s\u001b[0m 3ms/step - accuracy: 0.6286 - loss: 0.6599 - val_accuracy: 0.6484 - val_loss: 0.6503\n",
      "Epoch 11/25\n",
      "\u001b[1m12/12\u001b[0m \u001b[32m━━━━━━━━━━━━━━━━━━━━\u001b[0m\u001b[37m\u001b[0m \u001b[1m0s\u001b[0m 4ms/step - accuracy: 0.5987 - loss: 0.6744 - val_accuracy: 0.6484 - val_loss: 0.6503\n",
      "Epoch 12/25\n",
      "\u001b[1m12/12\u001b[0m \u001b[32m━━━━━━━━━━━━━━━━━━━━\u001b[0m\u001b[37m\u001b[0m \u001b[1m0s\u001b[0m 3ms/step - accuracy: 0.6533 - loss: 0.6480 - val_accuracy: 0.6484 - val_loss: 0.6504\n",
      "Epoch 13/25\n",
      "\u001b[1m12/12\u001b[0m \u001b[32m━━━━━━━━━━━━━━━━━━━━\u001b[0m\u001b[37m\u001b[0m \u001b[1m0s\u001b[0m 4ms/step - accuracy: 0.5904 - loss: 0.6784 - val_accuracy: 0.6484 - val_loss: 0.6504\n",
      "Epoch 14/25\n",
      "\u001b[1m12/12\u001b[0m \u001b[32m━━━━━━━━━━━━━━━━━━━━\u001b[0m\u001b[37m\u001b[0m \u001b[1m0s\u001b[0m 3ms/step - accuracy: 0.6450 - loss: 0.6520 - val_accuracy: 0.6484 - val_loss: 0.6504\n",
      "Epoch 15/25\n",
      "\u001b[1m12/12\u001b[0m \u001b[32m━━━━━━━━━━━━━━━━━━━━\u001b[0m\u001b[37m\u001b[0m \u001b[1m0s\u001b[0m 3ms/step - accuracy: 0.6079 - loss: 0.6700 - val_accuracy: 0.6484 - val_loss: 0.6504\n",
      "Epoch 16/25\n",
      "\u001b[1m12/12\u001b[0m \u001b[32m━━━━━━━━━━━━━━━━━━━━\u001b[0m\u001b[37m\u001b[0m \u001b[1m0s\u001b[0m 3ms/step - accuracy: 0.6205 - loss: 0.6639 - val_accuracy: 0.6484 - val_loss: 0.6504\n",
      "Epoch 17/25\n",
      "\u001b[1m12/12\u001b[0m \u001b[32m━━━━━━━━━━━━━━━━━━━━\u001b[0m\u001b[37m\u001b[0m \u001b[1m0s\u001b[0m 3ms/step - accuracy: 0.6249 - loss: 0.6618 - val_accuracy: 0.6484 - val_loss: 0.6505\n",
      "Epoch 18/25\n",
      "\u001b[1m12/12\u001b[0m \u001b[32m━━━━━━━━━━━━━━━━━━━━\u001b[0m\u001b[37m\u001b[0m \u001b[1m0s\u001b[0m 5ms/step - accuracy: 0.6253 - loss: 0.6616 - val_accuracy: 0.6484 - val_loss: 0.6505\n",
      "Epoch 19/25\n",
      "\u001b[1m12/12\u001b[0m \u001b[32m━━━━━━━━━━━━━━━━━━━━\u001b[0m\u001b[37m\u001b[0m \u001b[1m0s\u001b[0m 2ms/step - accuracy: 0.6041 - loss: 0.6717 - val_accuracy: 0.6484 - val_loss: 0.6504\n",
      "Epoch 20/25\n",
      "\u001b[1m12/12\u001b[0m \u001b[32m━━━━━━━━━━━━━━━━━━━━\u001b[0m\u001b[37m\u001b[0m \u001b[1m0s\u001b[0m 3ms/step - accuracy: 0.6304 - loss: 0.6591 - val_accuracy: 0.6484 - val_loss: 0.6504\n",
      "Epoch 21/25\n",
      "\u001b[1m12/12\u001b[0m \u001b[32m━━━━━━━━━━━━━━━━━━━━\u001b[0m\u001b[37m\u001b[0m \u001b[1m0s\u001b[0m 3ms/step - accuracy: 0.6036 - loss: 0.6720 - val_accuracy: 0.6484 - val_loss: 0.6504\n",
      "Epoch 22/25\n",
      "\u001b[1m12/12\u001b[0m \u001b[32m━━━━━━━━━━━━━━━━━━━━\u001b[0m\u001b[37m\u001b[0m \u001b[1m0s\u001b[0m 3ms/step - accuracy: 0.5707 - loss: 0.6878 - val_accuracy: 0.6484 - val_loss: 0.6504\n",
      "Epoch 23/25\n",
      "\u001b[1m12/12\u001b[0m \u001b[32m━━━━━━━━━━━━━━━━━━━━\u001b[0m\u001b[37m\u001b[0m \u001b[1m0s\u001b[0m 3ms/step - accuracy: 0.6343 - loss: 0.6572 - val_accuracy: 0.6484 - val_loss: 0.6503\n",
      "Epoch 24/25\n",
      "\u001b[1m12/12\u001b[0m \u001b[32m━━━━━━━━━━━━━━━━━━━━\u001b[0m\u001b[37m\u001b[0m \u001b[1m0s\u001b[0m 3ms/step - accuracy: 0.6275 - loss: 0.6605 - val_accuracy: 0.6484 - val_loss: 0.6504\n",
      "Epoch 25/25\n",
      "\u001b[1m12/12\u001b[0m \u001b[32m━━━━━━━━━━━━━━━━━━━━\u001b[0m\u001b[37m\u001b[0m \u001b[1m0s\u001b[0m 3ms/step - accuracy: 0.6192 - loss: 0.6645 - val_accuracy: 0.6484 - val_loss: 0.6504\n"
     ]
    },
    {
     "data": {
      "text/plain": [
       "<keras.src.callbacks.history.History at 0x1e1c1b03110>"
      ]
     },
     "execution_count": 14,
     "metadata": {},
     "output_type": "execute_result"
    }
   ],
   "source": [
    "\n",
    "from keras.optimizers import Adadelta\n",
    "\n",
    "model.compile(loss='binary_crossentropy', optimizer=Adadelta(learning_rate=1.0, rho=0.95), metrics=['accuracy'])\n",
    "\n",
    "model.fit(X_train, y_train, epochs=25, validation_split=0.2)"
   ]
  },
  {
   "cell_type": "code",
   "execution_count": 15,
   "metadata": {},
   "outputs": [
    {
     "name": "stdout",
     "output_type": "stream",
     "text": [
      "Epoch 1/25\n",
      "\u001b[1m12/12\u001b[0m \u001b[32m━━━━━━━━━━━━━━━━━━━━\u001b[0m\u001b[37m\u001b[0m \u001b[1m1s\u001b[0m 11ms/step - accuracy: 0.6426 - loss: 0.6531 - val_accuracy: 0.6484 - val_loss: 0.6503\n",
      "Epoch 2/25\n",
      "\u001b[1m12/12\u001b[0m \u001b[32m━━━━━━━━━━━━━━━━━━━━\u001b[0m\u001b[37m\u001b[0m \u001b[1m0s\u001b[0m 4ms/step - accuracy: 0.6018 - loss: 0.6729 - val_accuracy: 0.6484 - val_loss: 0.6503\n",
      "Epoch 3/25\n",
      "\u001b[1m12/12\u001b[0m \u001b[32m━━━━━━━━━━━━━━━━━━━━\u001b[0m\u001b[37m\u001b[0m \u001b[1m0s\u001b[0m 3ms/step - accuracy: 0.6351 - loss: 0.6568 - val_accuracy: 0.6484 - val_loss: 0.6503\n",
      "Epoch 4/25\n",
      "\u001b[1m12/12\u001b[0m \u001b[32m━━━━━━━━━━━━━━━━━━━━\u001b[0m\u001b[37m\u001b[0m \u001b[1m0s\u001b[0m 4ms/step - accuracy: 0.6007 - loss: 0.6734 - val_accuracy: 0.6484 - val_loss: 0.6504\n",
      "Epoch 5/25\n",
      "\u001b[1m12/12\u001b[0m \u001b[32m━━━━━━━━━━━━━━━━━━━━\u001b[0m\u001b[37m\u001b[0m \u001b[1m0s\u001b[0m 4ms/step - accuracy: 0.6199 - loss: 0.6641 - val_accuracy: 0.6484 - val_loss: 0.6504\n",
      "Epoch 6/25\n",
      "\u001b[1m12/12\u001b[0m \u001b[32m━━━━━━━━━━━━━━━━━━━━\u001b[0m\u001b[37m\u001b[0m \u001b[1m0s\u001b[0m 3ms/step - accuracy: 0.6332 - loss: 0.6577 - val_accuracy: 0.6484 - val_loss: 0.6504\n",
      "Epoch 7/25\n",
      "\u001b[1m12/12\u001b[0m \u001b[32m━━━━━━━━━━━━━━━━━━━━\u001b[0m\u001b[37m\u001b[0m \u001b[1m0s\u001b[0m 4ms/step - accuracy: 0.6126 - loss: 0.6677 - val_accuracy: 0.6484 - val_loss: 0.6504\n",
      "Epoch 8/25\n",
      "\u001b[1m12/12\u001b[0m \u001b[32m━━━━━━━━━━━━━━━━━━━━\u001b[0m\u001b[37m\u001b[0m \u001b[1m0s\u001b[0m 4ms/step - accuracy: 0.6418 - loss: 0.6535 - val_accuracy: 0.6484 - val_loss: 0.6504\n",
      "Epoch 9/25\n",
      "\u001b[1m12/12\u001b[0m \u001b[32m━━━━━━━━━━━━━━━━━━━━\u001b[0m\u001b[37m\u001b[0m \u001b[1m0s\u001b[0m 3ms/step - accuracy: 0.6265 - loss: 0.6609 - val_accuracy: 0.6484 - val_loss: 0.6504\n",
      "Epoch 10/25\n",
      "\u001b[1m12/12\u001b[0m \u001b[32m━━━━━━━━━━━━━━━━━━━━\u001b[0m\u001b[37m\u001b[0m \u001b[1m0s\u001b[0m 3ms/step - accuracy: 0.6273 - loss: 0.6605 - val_accuracy: 0.6484 - val_loss: 0.6504\n",
      "Epoch 11/25\n",
      "\u001b[1m12/12\u001b[0m \u001b[32m━━━━━━━━━━━━━━━━━━━━\u001b[0m\u001b[37m\u001b[0m \u001b[1m0s\u001b[0m 3ms/step - accuracy: 0.6021 - loss: 0.6727 - val_accuracy: 0.6484 - val_loss: 0.6505\n",
      "Epoch 12/25\n",
      "\u001b[1m12/12\u001b[0m \u001b[32m━━━━━━━━━━━━━━━━━━━━\u001b[0m\u001b[37m\u001b[0m \u001b[1m0s\u001b[0m 3ms/step - accuracy: 0.6082 - loss: 0.6697 - val_accuracy: 0.6484 - val_loss: 0.6505\n",
      "Epoch 13/25\n",
      "\u001b[1m12/12\u001b[0m \u001b[32m━━━━━━━━━━━━━━━━━━━━\u001b[0m\u001b[37m\u001b[0m \u001b[1m0s\u001b[0m 3ms/step - accuracy: 0.6230 - loss: 0.6626 - val_accuracy: 0.6484 - val_loss: 0.6505\n",
      "Epoch 14/25\n",
      "\u001b[1m12/12\u001b[0m \u001b[32m━━━━━━━━━━━━━━━━━━━━\u001b[0m\u001b[37m\u001b[0m \u001b[1m0s\u001b[0m 3ms/step - accuracy: 0.5976 - loss: 0.6748 - val_accuracy: 0.6484 - val_loss: 0.6505\n",
      "Epoch 15/25\n",
      "\u001b[1m12/12\u001b[0m \u001b[32m━━━━━━━━━━━━━━━━━━━━\u001b[0m\u001b[37m\u001b[0m \u001b[1m0s\u001b[0m 3ms/step - accuracy: 0.6035 - loss: 0.6720 - val_accuracy: 0.6484 - val_loss: 0.6505\n",
      "Epoch 16/25\n",
      "\u001b[1m12/12\u001b[0m \u001b[32m━━━━━━━━━━━━━━━━━━━━\u001b[0m\u001b[37m\u001b[0m \u001b[1m0s\u001b[0m 3ms/step - accuracy: 0.5780 - loss: 0.6842 - val_accuracy: 0.6484 - val_loss: 0.6505\n",
      "Epoch 17/25\n",
      "\u001b[1m12/12\u001b[0m \u001b[32m━━━━━━━━━━━━━━━━━━━━\u001b[0m\u001b[37m\u001b[0m \u001b[1m0s\u001b[0m 5ms/step - accuracy: 0.6402 - loss: 0.6544 - val_accuracy: 0.6484 - val_loss: 0.6505\n",
      "Epoch 18/25\n",
      "\u001b[1m12/12\u001b[0m \u001b[32m━━━━━━━━━━━━━━━━━━━━\u001b[0m\u001b[37m\u001b[0m \u001b[1m0s\u001b[0m 4ms/step - accuracy: 0.5872 - loss: 0.6798 - val_accuracy: 0.6484 - val_loss: 0.6505\n",
      "Epoch 19/25\n",
      "\u001b[1m12/12\u001b[0m \u001b[32m━━━━━━━━━━━━━━━━━━━━\u001b[0m\u001b[37m\u001b[0m \u001b[1m0s\u001b[0m 3ms/step - accuracy: 0.6262 - loss: 0.6611 - val_accuracy: 0.6484 - val_loss: 0.6504\n",
      "Epoch 20/25\n",
      "\u001b[1m12/12\u001b[0m \u001b[32m━━━━━━━━━━━━━━━━━━━━\u001b[0m\u001b[37m\u001b[0m \u001b[1m0s\u001b[0m 4ms/step - accuracy: 0.6363 - loss: 0.6562 - val_accuracy: 0.6484 - val_loss: 0.6504\n",
      "Epoch 21/25\n",
      "\u001b[1m12/12\u001b[0m \u001b[32m━━━━━━━━━━━━━━━━━━━━\u001b[0m\u001b[37m\u001b[0m \u001b[1m0s\u001b[0m 3ms/step - accuracy: 0.6033 - loss: 0.6721 - val_accuracy: 0.6484 - val_loss: 0.6504\n",
      "Epoch 22/25\n",
      "\u001b[1m12/12\u001b[0m \u001b[32m━━━━━━━━━━━━━━━━━━━━\u001b[0m\u001b[37m\u001b[0m \u001b[1m0s\u001b[0m 4ms/step - accuracy: 0.5964 - loss: 0.6755 - val_accuracy: 0.6484 - val_loss: 0.6504\n",
      "Epoch 23/25\n",
      "\u001b[1m12/12\u001b[0m \u001b[32m━━━━━━━━━━━━━━━━━━━━\u001b[0m\u001b[37m\u001b[0m \u001b[1m0s\u001b[0m 3ms/step - accuracy: 0.6290 - loss: 0.6598 - val_accuracy: 0.6484 - val_loss: 0.6504\n",
      "Epoch 24/25\n",
      "\u001b[1m12/12\u001b[0m \u001b[32m━━━━━━━━━━━━━━━━━━━━\u001b[0m\u001b[37m\u001b[0m \u001b[1m0s\u001b[0m 4ms/step - accuracy: 0.5876 - loss: 0.6797 - val_accuracy: 0.6484 - val_loss: 0.6504\n",
      "Epoch 25/25\n",
      "\u001b[1m12/12\u001b[0m \u001b[32m━━━━━━━━━━━━━━━━━━━━\u001b[0m\u001b[37m\u001b[0m \u001b[1m0s\u001b[0m 3ms/step - accuracy: 0.6371 - loss: 0.6559 - val_accuracy: 0.6484 - val_loss: 0.6504\n"
     ]
    },
    {
     "data": {
      "text/plain": [
       "<keras.src.callbacks.history.History at 0x1e1c1b5ae70>"
      ]
     },
     "execution_count": 15,
     "metadata": {},
     "output_type": "execute_result"
    }
   ],
   "source": [
    "from keras.optimizers import Nadam\n",
    "\n",
    "model.compile(loss='binary_crossentropy', optimizer=Nadam(learning_rate=0.001), metrics=['accuracy'])\n",
    "model.fit(X_train, y_train, epochs=25, validation_split=0.2)"
   ]
  },
  {
   "cell_type": "markdown",
   "metadata": {},
   "source": []
  }
 ],
 "metadata": {
  "kernelspec": {
   "display_name": "Python 3",
   "language": "python",
   "name": "python3"
  },
  "language_info": {
   "codemirror_mode": {
    "name": "ipython",
    "version": 3
   },
   "file_extension": ".py",
   "mimetype": "text/x-python",
   "name": "python",
   "nbconvert_exporter": "python",
   "pygments_lexer": "ipython3",
   "version": "3.12.4"
  }
 },
 "nbformat": 4,
 "nbformat_minor": 2
}
