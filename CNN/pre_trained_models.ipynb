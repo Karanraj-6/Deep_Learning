{
  "nbformat": 4,
  "nbformat_minor": 0,
  "metadata": {
    "colab": {
      "provenance": []
    },
    "kernelspec": {
      "name": "python3",
      "display_name": "Python 3"
    },
    "language_info": {
      "name": "python"
    }
  },
  "cells": [
    {
      "cell_type": "code",
      "execution_count": 8,
      "metadata": {
        "id": "29Snc9XgxH6C"
      },
      "outputs": [],
      "source": [
        "import tensorflow as tf\n",
        "from tensorflow import keras\n",
        "\n"
      ]
    },
    {
      "cell_type": "code",
      "source": [
        "from keras.applications.resnet50 import ResNet50\n",
        "from keras.preprocessing import image\n",
        "from keras.applications.resnet50 import preprocess_input, decode_predictions"
      ],
      "metadata": {
        "id": "0QXdPuhnxJPC"
      },
      "execution_count": 9,
      "outputs": []
    },
    {
      "cell_type": "code",
      "source": [
        "model=ResNet50(weights='imagenet')"
      ],
      "metadata": {
        "id": "gefn7GUwxJLd"
      },
      "execution_count": 10,
      "outputs": []
    },
    {
      "cell_type": "code",
      "source": [
        "import numpy as np"
      ],
      "metadata": {
        "id": "X0kZDGST_W6v"
      },
      "execution_count": 11,
      "outputs": []
    },
    {
      "cell_type": "code",
      "source": [
        "image_path='/content/cat-with-open-mouth.webp'\n",
        "img=image.load_img(image_path,target_size=(224,224))\n",
        "x= image.img_to_array(img)\n",
        "x= np.expand_dims(x,axis=0)\n",
        "x=preprocess_input(x)"
      ],
      "metadata": {
        "id": "8-kQkldexJH1"
      },
      "execution_count": 12,
      "outputs": []
    },
    {
      "cell_type": "code",
      "source": [
        "pred=model.predict(x)\n",
        "print('Predict:',decode_predictions(pred,top=3)[0])"
      ],
      "metadata": {
        "colab": {
          "base_uri": "https://localhost:8080/"
        },
        "id": "SFOMOSkY_dep",
        "outputId": "3cd886cc-27fc-44bd-878b-e1773b04c2e8"
      },
      "execution_count": 15,
      "outputs": [
        {
          "output_type": "stream",
          "name": "stdout",
          "text": [
            "\u001b[1m1/1\u001b[0m \u001b[32m━━━━━━━━━━━━━━━━━━━━\u001b[0m\u001b[37m\u001b[0m \u001b[1m0s\u001b[0m 123ms/step\n",
            "Predict: [('n02123045', 'tabby', 0.4249965), ('n02124075', 'Egyptian_cat', 0.25507122), ('n02123159', 'tiger_cat', 0.11429084)]\n"
          ]
        }
      ]
    },
    {
      "cell_type": "code",
      "source": [
        "image_path='/content/dog-with-human-expression.webp'\n",
        "img=image.load_img(image_path,target_size=(224,224))\n",
        "x= image.img_to_array(img)\n",
        "x= np.expand_dims(x,axis=0)\n",
        "x=preprocess_input(x)"
      ],
      "metadata": {
        "id": "hPo_HrzDAKHM"
      },
      "execution_count": 16,
      "outputs": []
    },
    {
      "cell_type": "code",
      "source": [
        "pred=model.predict(x)\n",
        "print('Predict:',decode_predictions(pred,top=3)[0])"
      ],
      "metadata": {
        "colab": {
          "base_uri": "https://localhost:8080/"
        },
        "id": "knqGFKsPA3_l",
        "outputId": "35335c07-2611-4381-c215-58cd3a0469ee"
      },
      "execution_count": 17,
      "outputs": [
        {
          "output_type": "stream",
          "name": "stdout",
          "text": [
            "\u001b[1m1/1\u001b[0m \u001b[32m━━━━━━━━━━━━━━━━━━━━\u001b[0m\u001b[37m\u001b[0m \u001b[1m0s\u001b[0m 126ms/step\n",
            "Predict: [('n02109047', 'Great_Dane', 0.6463581), ('n02108422', 'bull_mastiff', 0.07404467), ('n02100236', 'German_short-haired_pointer', 0.06180973)]\n"
          ]
        }
      ]
    },
    {
      "cell_type": "code",
      "source": [],
      "metadata": {
        "id": "z04Ha-2KA630"
      },
      "execution_count": null,
      "outputs": []
    }
  ]
}